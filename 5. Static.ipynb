{
 "cells": [
  {
   "cell_type": "code",
   "execution_count": 2,
   "id": "074d2621",
   "metadata": {},
   "outputs": [
    {
     "name": "stdout",
     "output_type": "stream",
     "text": [
      "Accessing through class  56\n",
      "changed throygh the class 101\n"
     ]
    }
   ],
   "source": [
    "#1. define a static variable and access that through class\n",
    "class A:\n",
    "    static=56\n",
    "print(\"Accessing through class \",A.static)\n"
   ]
  },
  {
   "cell_type": "code",
   "execution_count": 3,
   "id": "afc33a5a",
   "metadata": {},
   "outputs": [
    {
     "name": "stdout",
     "output_type": "stream",
     "text": [
      "Accessing through instance 99\n"
     ]
    }
   ],
   "source": [
    "#2. Define a static variable and access that through a instance\n",
    "#2. define a static variable and access through an instance\n",
    "class B:\n",
    "    var=99\n",
    "obj=B()\n",
    "print(\"Accessing through instance\",obj.var)"
   ]
  },
  {
   "cell_type": "code",
   "execution_count": 4,
   "id": "bbab1285",
   "metadata": {},
   "outputs": [
    {
     "name": "stdout",
     "output_type": "stream",
     "text": [
      "changed throygh the instance  90\n",
      "origianal value 89\n"
     ]
    }
   ],
   "source": [
    "#3. Define a static variable and change with in the instance\n",
    "class c:\n",
    "    val=89\n",
    "obj=c()\n",
    "obj.val=90\n",
    "print(\"changed throygh the instance \" ,obj.val)\n",
    "print(\"origianal value\" ,c.val)"
   ]
  },
  {
   "cell_type": "code",
   "execution_count": 5,
   "id": "403f995b",
   "metadata": {},
   "outputs": [
    {
     "name": "stdout",
     "output_type": "stream",
     "text": [
      "changed throygh the class 101\n"
     ]
    }
   ],
   "source": [
    "#4. define a static variable and change within the class\n",
    "class D:\n",
    "    val=100\n",
    "D.val=101\n",
    "print(\"changed throygh the class\" ,D.val)"
   ]
  },
  {
   "cell_type": "code",
   "execution_count": null,
   "id": "f6b24c61",
   "metadata": {},
   "outputs": [],
   "source": []
  }
 ],
 "metadata": {
  "kernelspec": {
   "display_name": "Python 3 (ipykernel)",
   "language": "python",
   "name": "python3"
  },
  "language_info": {
   "codemirror_mode": {
    "name": "ipython",
    "version": 3
   },
   "file_extension": ".py",
   "mimetype": "text/x-python",
   "name": "python",
   "nbconvert_exporter": "python",
   "pygments_lexer": "ipython3",
   "version": "3.11.7"
  }
 },
 "nbformat": 4,
 "nbformat_minor": 5
}
