{
 "cells": [
  {
   "cell_type": "code",
   "execution_count": 23,
   "id": "074d2621",
   "metadata": {},
   "outputs": [
    {
     "name": "stdout",
     "output_type": "stream",
     "text": [
      "Access through class: 100\n"
     ]
    }
   ],
   "source": [
    "#1. Define a static variable and access that through a class \n",
    "class Example1:\n",
    "    static_var = 100  \n",
    "\n",
    "print(\"Access through class:\", Example1.static_var)"
   ]
  },
  {
   "cell_type": "code",
   "execution_count": 24,
   "id": "afc33a5a",
   "metadata": {},
   "outputs": [
    {
     "ename": "IndentationError",
     "evalue": "unexpected indent (1869754589.py, line 2)",
     "output_type": "error",
     "traceback": [
      "\u001b[1;36m  Cell \u001b[1;32mIn[24], line 2\u001b[1;36m\u001b[0m\n\u001b[1;33m    static_var = 200\u001b[0m\n\u001b[1;37m    ^\u001b[0m\n\u001b[1;31mIndentationError\u001b[0m\u001b[1;31m:\u001b[0m unexpected indent\n"
     ]
    }
   ],
   "source": [
    "#2. Define a static variable and access that through a instance"
   ]
  },
  {
   "cell_type": "code",
   "execution_count": null,
   "id": "bbab1285",
   "metadata": {},
   "outputs": [],
   "source": []
  }
 ],
 "metadata": {
  "kernelspec": {
   "display_name": "Python 3 (ipykernel)",
   "language": "python",
   "name": "python3"
  },
  "language_info": {
   "codemirror_mode": {
    "name": "ipython",
    "version": 3
   },
   "file_extension": ".py",
   "mimetype": "text/x-python",
   "name": "python",
   "nbconvert_exporter": "python",
   "pygments_lexer": "ipython3",
   "version": "3.11.7"
  }
 },
 "nbformat": 4,
 "nbformat_minor": 5
}
