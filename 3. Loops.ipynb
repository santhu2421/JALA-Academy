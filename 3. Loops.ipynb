{
 "cells": [
  {
   "cell_type": "code",
   "execution_count": 37,
   "id": "d1c93f34",
   "metadata": {},
   "outputs": [
    {
     "name": "stdout",
     "output_type": "stream",
     "text": [
      "Bright IT Career\n",
      "Bright IT Career\n",
      "Bright IT Career\n",
      "Bright IT Career\n",
      "Bright IT Career\n",
      "Bright IT Career\n",
      "Bright IT Career\n",
      "Bright IT Career\n",
      "Bright IT Career\n",
      "Bright IT Career\n"
     ]
    }
   ],
   "source": [
    "#1. Write a program to print “Bright IT Career” ten times using for loop\n",
    "for i in range (10):\n",
    "    print('Bright IT Career')"
   ]
  },
  {
   "cell_type": "code",
   "execution_count": 40,
   "id": "01c7f185",
   "metadata": {},
   "outputs": [
    {
     "name": "stdout",
     "output_type": "stream",
     "text": [
      "1\n",
      "2\n",
      "3\n",
      "4\n",
      "5\n",
      "6\n",
      "7\n",
      "8\n",
      "9\n",
      "10\n",
      "11\n",
      "12\n",
      "13\n",
      "14\n",
      "15\n",
      "16\n",
      "17\n",
      "18\n",
      "19\n",
      "20\n"
     ]
    }
   ],
   "source": [
    "#2. Write a program to print 1 to 20 numbers using the while loop.\n",
    "n = 1  \n",
    "\n",
    "while n <= 20:  \n",
    "    print(n)  \n",
    "    n += 1  \n"
   ]
  },
  {
   "cell_type": "code",
   "execution_count": 41,
   "id": "4414f593",
   "metadata": {},
   "outputs": [
    {
     "name": "stdout",
     "output_type": "stream",
     "text": [
      "Equal Operator: False\n",
      "Not Equal Operator: True\n"
     ]
    }
   ],
   "source": [
    "#3. Program to equal operator and not equal operators\n",
    "a = 10\n",
    "b = 20\n",
    "\n",
    "print(\"Equal Operator:\", a == b)  \n",
    "print(\"Not Equal Operator:\", a != b)  \n"
   ]
  },
  {
   "cell_type": "code",
   "execution_count": 45,
   "id": "b7168ce6",
   "metadata": {},
   "outputs": [
    {
     "name": "stdout",
     "output_type": "stream",
     "text": [
      "1 is Odd\n",
      "2 is Even\n",
      "3 is Odd\n",
      "4 is Even\n",
      "5 is Odd\n",
      "6 is Even\n",
      "7 is Odd\n",
      "8 is Even\n",
      "9 is Odd\n"
     ]
    }
   ],
   "source": [
    "#4. Write a program to print the odd and even numbers\n",
    "for i in range(1, 10):\n",
    "    if i % 2 == 0:\n",
    "        print(i, \"is Even\")\n",
    "    else:\n",
    "        print(i, \"is Odd\")\n"
   ]
  },
  {
   "cell_type": "code",
   "execution_count": 53,
   "id": "9f792b41",
   "metadata": {},
   "outputs": [
    {
     "name": "stdout",
     "output_type": "stream",
     "text": [
      "100\n"
     ]
    }
   ],
   "source": [
    "#5. Write a program to print largest number among three numbers.\n",
    "a =10\n",
    "b=78\n",
    "c=100\n",
    "print(max(a,b,c))"
   ]
  },
  {
   "cell_type": "code",
   "execution_count": 54,
   "id": "cc15d8ee",
   "metadata": {},
   "outputs": [
    {
     "name": "stdout",
     "output_type": "stream",
     "text": [
      "10 12 14 16 18 20 "
     ]
    }
   ],
   "source": [
    "#6. Write a program to print even number between 10 and 20 using while\n",
    "m = 10\n",
    "while m <= 20:\n",
    "    if m % 2 == 0:\n",
    "        print(m, end=\" \")\n",
    "    m += 1\n"
   ]
  },
  {
   "cell_type": "code",
   "execution_count": 55,
   "id": "ce5ce541",
   "metadata": {},
   "outputs": [
    {
     "name": "stdout",
     "output_type": "stream",
     "text": [
      "1\n",
      "2\n",
      "3\n",
      "4\n",
      "5\n",
      "6\n",
      "7\n",
      "8\n",
      "9\n",
      "10\n"
     ]
    }
   ],
   "source": [
    "#7. Write a program to print 1 to 10 using the do-while loop statement.\n",
    "num = 1\n",
    "while True:\n",
    "    print(num)\n",
    "    num += 1\n",
    "    if num > 10:\n",
    "        break\n"
   ]
  },
  {
   "cell_type": "code",
   "execution_count": 57,
   "id": "e8a3be2b",
   "metadata": {},
   "outputs": [
    {
     "name": "stdout",
     "output_type": "stream",
     "text": [
      "131\n",
      "131 is not an Armstrong number\n"
     ]
    }
   ],
   "source": [
    "#8. Write a program to find Armstrong number or not\n",
    "s = int(input())\n",
    "sum = 0\n",
    "temp = s\n",
    "\n",
    "while temp > 0:\n",
    "    digit = temp % 10\n",
    "    sum += digit ** 3\n",
    "    temp //= 10\n",
    "\n",
    "if s == sum:\n",
    "    print(s, \"is an Armstrong number\")\n",
    "else:\n",
    "    print(s, \"is not an Armstrong number\")\n"
   ]
  },
  {
   "cell_type": "code",
   "execution_count": 64,
   "id": "4451780d",
   "metadata": {},
   "outputs": [
    {
     "name": "stdout",
     "output_type": "stream",
     "text": [
      "12\n",
      "12 is not a Prime number\n"
     ]
    }
   ],
   "source": [
    "#9. Write a program to find the prime or not.\n",
    "y = int(input())\n",
    "if y > 1:\n",
    "    for i in range(2, int(y ** 0.5) + 1):\n",
    "        if y % i == 0:\n",
    "            print(y, \"is not a Prime number\")\n",
    "            break\n",
    "    else:\n",
    "        print(y, \"is a Prime number\")\n",
    "else:\n",
    "    print(y, \"is not a Prime number\")\n"
   ]
  },
  {
   "cell_type": "code",
   "execution_count": 62,
   "id": "4d6a22e4",
   "metadata": {},
   "outputs": [
    {
     "name": "stdout",
     "output_type": "stream",
     "text": [
      "121 is a Palindrome\n"
     ]
    }
   ],
   "source": [
    "#10. Write a program to palindrome or not.\n",
    "x = 121\n",
    "if str(x) == str(x)[::-1]:\n",
    "    print(x, \"is a Palindrome\")\n",
    "else:\n",
    "    print(x, \"is not a Palindrome\")\n"
   ]
  },
  {
   "cell_type": "code",
   "execution_count": 65,
   "id": "8002b205",
   "metadata": {},
   "outputs": [
    {
     "name": "stdout",
     "output_type": "stream",
     "text": [
      "12\n",
      "odd\n"
     ]
    }
   ],
   "source": [
    "#11. Program to check whether a number is EVEN or ODD using switch\n",
    "d = int(input())\n",
    "if d%2==0:\n",
    "    print('odd')\n",
    "else:\n",
    "    print('even')"
   ]
  },
  {
   "cell_type": "code",
   "execution_count": 66,
   "id": "d7d4d889",
   "metadata": {},
   "outputs": [
    {
     "name": "stdout",
     "output_type": "stream",
     "text": [
      "Male\n"
     ]
    }
   ],
   "source": [
    "#12. Print gender (Male/Female) program according to given M/F using switch\n",
    "gender = 'M'\n",
    "\n",
    "match gender.upper():\n",
    "    case 'M':\n",
    "        print(\"Male\")\n",
    "    case 'F':\n",
    "        print(\"Female\")\n",
    "    case _:\n",
    "        print(\"Invalid input\")\n"
   ]
  },
  {
   "cell_type": "code",
   "execution_count": null,
   "id": "55e8e42a",
   "metadata": {},
   "outputs": [],
   "source": []
  }
 ],
 "metadata": {
  "kernelspec": {
   "display_name": "Python 3 (ipykernel)",
   "language": "python",
   "name": "python3"
  },
  "language_info": {
   "codemirror_mode": {
    "name": "ipython",
    "version": 3
   },
   "file_extension": ".py",
   "mimetype": "text/x-python",
   "name": "python",
   "nbconvert_exporter": "python",
   "pygments_lexer": "ipython3",
   "version": "3.11.7"
  }
 },
 "nbformat": 4,
 "nbformat_minor": 5
}
