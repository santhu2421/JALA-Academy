{
 "cells": [
  {
   "cell_type": "code",
   "execution_count": 12,
   "id": "dc920eeb",
   "metadata": {},
   "outputs": [
    {
     "name": "stdout",
     "output_type": "stream",
     "text": [
      "3\n",
      "2\n",
      "-1\n",
      "0.5\n"
     ]
    }
   ],
   "source": [
    "#2.Operators\n",
    "#1. Write a function for arithmetic operators(+,-,*,/)\n",
    "a=1\n",
    "b=2\n",
    "print(a+b)\n",
    "print(a*b)\n",
    "print(a-b)\n",
    "print(a/b)"
   ]
  },
  {
   "cell_type": "code",
   "execution_count": 19,
   "id": "c2acc115",
   "metadata": {},
   "outputs": [
    {
     "name": "stdout",
     "output_type": "stream",
     "text": [
      "Original value: 10\n",
      "After increment: 12\n",
      "After decrement: 7\n"
     ]
    }
   ],
   "source": [
    "#Write a method for increment and decrement operators(++, --)\n",
    "c = 10\n",
    "print(\"Original value:\", c)\n",
    "\n",
    "c += 2  # Increment\n",
    "print(\"After increment:\", c)\n",
    "\n",
    "c -= 5  # Decrement\n",
    "print(\"After decrement:\", c)\n",
    "\n"
   ]
  },
  {
   "cell_type": "code",
   "execution_count": 27,
   "id": "6480e126",
   "metadata": {},
   "outputs": [
    {
     "name": "stdout",
     "output_type": "stream",
     "text": [
      "10 and 2 are not equal.\n"
     ]
    }
   ],
   "source": [
    "#3. Write a program to find the two numbers equal or not.\n",
    "x = 10\n",
    "y = 2\n",
    "\n",
    "if x == y:\n",
    "    print(x, \"and\", y, \"are equal.\")\n",
    "else:\n",
    "    print(x, \"and\", y, \"are not equal.\")\n"
   ]
  },
  {
   "cell_type": "code",
   "execution_count": 31,
   "id": "ae297fd7",
   "metadata": {},
   "outputs": [
    {
     "name": "stdout",
     "output_type": "stream",
     "text": [
      "True\n",
      "True\n",
      "False\n",
      "False\n"
     ]
    }
   ],
   "source": [
    "#4. Program for relational operators (<,<==, >, >==)\n",
    "a = 15\n",
    "b = 20\n",
    "\n",
    "print(a < b)\n",
    "print(a <= b)\n",
    "print(a > b)\n",
    "print(a >= b)\n"
   ]
  },
  {
   "cell_type": "code",
   "execution_count": 32,
   "id": "305c0936",
   "metadata": {},
   "outputs": [
    {
     "name": "stdout",
     "output_type": "stream",
     "text": [
      "m is big\n"
     ]
    }
   ],
   "source": [
    "#5. Print the smaller and larger number\n",
    "m = 12\n",
    "n = 3\n",
    "if m>n:\n",
    "    print('m is big')\n",
    "else:\n",
    "    print('n is small')"
   ]
  },
  {
   "cell_type": "code",
   "execution_count": null,
   "id": "0ab573c3",
   "metadata": {},
   "outputs": [],
   "source": []
  }
 ],
 "metadata": {
  "kernelspec": {
   "display_name": "Python 3 (ipykernel)",
   "language": "python",
   "name": "python3"
  },
  "language_info": {
   "codemirror_mode": {
    "name": "ipython",
    "version": 3
   },
   "file_extension": ".py",
   "mimetype": "text/x-python",
   "name": "python",
   "nbconvert_exporter": "python",
   "pygments_lexer": "ipython3",
   "version": "3.11.7"
  }
 },
 "nbformat": 4,
 "nbformat_minor": 5
}
