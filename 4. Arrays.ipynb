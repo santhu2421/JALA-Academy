{
 "cells": [
  {
   "cell_type": "code",
   "execution_count": 3,
   "id": "0871c7cf",
   "metadata": {},
   "outputs": [
    {
     "name": "stdout",
     "output_type": "stream",
     "text": [
      "Sum of array elements: 15\n"
     ]
    }
   ],
   "source": [
    "#1. Write a function to add integer values of an array\n",
    "arr1 = [1, 2, 3, 4, 5]\n",
    "sum_val = 0\n",
    "\n",
    "for num in arr1:\n",
    "    sum_val += num\n",
    "\n",
    "print(\"Sum of array elements:\", sum_val)\n",
    "\n",
    "\n"
   ]
  },
  {
   "cell_type": "code",
   "execution_count": 4,
   "id": "1d77cbfb",
   "metadata": {},
   "outputs": [
    {
     "name": "stdout",
     "output_type": "stream",
     "text": [
      "Average of array: 30.0\n"
     ]
    }
   ],
   "source": [
    "\n",
    "#2. Write a function to calculate the average value of an array of integers\n",
    "arr2 = [10, 20, 30, 40, 50]\n",
    "sum_val = 0\n",
    "count = len(arr2)\n",
    "\n",
    "for num in arr2:\n",
    "    sum_val += num\n",
    "\n",
    "average = sum_val / count\n",
    "print(\"Average of array:\", average)\n"
   ]
  },
  {
   "cell_type": "code",
   "execution_count": 5,
   "id": "159586e5",
   "metadata": {},
   "outputs": [
    {
     "data": {
      "text/plain": [
       "3"
      ]
     },
     "execution_count": 5,
     "metadata": {},
     "output_type": "execute_result"
    }
   ],
   "source": [
    "#3. Write a program to find the index of an array element\n",
    "arr3 = [10, 20, 30, 40, 50]\n",
    "arr[2]"
   ]
  },
  {
   "cell_type": "code",
   "execution_count": 6,
   "id": "cb0c698c",
   "metadata": {},
   "outputs": [
    {
     "name": "stdout",
     "output_type": "stream",
     "text": [
      "Array contains 15 : True\n"
     ]
    }
   ],
   "source": [
    "#4. Write a function to test if array contains a specific value\n",
    "arr4 = [5, 10, 15, 20, 25]\n",
    "target = 15\n",
    "\n",
    "found = False\n",
    "for num in arr4:\n",
    "    if num == target:\n",
    "        found = True\n",
    "        break\n",
    "\n",
    "print(\"Array contains\", target, \":\", found)\n"
   ]
  },
  {
   "cell_type": "code",
   "execution_count": 7,
   "id": "d97b576e",
   "metadata": {},
   "outputs": [
    {
     "name": "stdout",
     "output_type": "stream",
     "text": [
      "Array after removal: [1, 2, 4, 5]\n"
     ]
    }
   ],
   "source": [
    "# 5.Write a function to remove a specific element from an array\n",
    "arr5 = [1, 2, 3, 4, 5]\n",
    "value_to_remove = 3\n",
    "new_arr = []\n",
    "for item in arr5:\n",
    "    if item != value_to_remove:\n",
    "        new_arr.append(item)\n",
    "print(\"Array after removal:\", new_arr)"
   ]
  },
  {
   "cell_type": "code",
   "execution_count": 8,
   "id": "3527b904",
   "metadata": {},
   "outputs": [
    {
     "name": "stdout",
     "output_type": "stream",
     "text": [
      "Copied array: [1, 2, 3, 4, 5]\n"
     ]
    }
   ],
   "source": [
    "#6. Write a function to copy an array to another array\n",
    "arr6 = [1, 2, 3, 4, 5]\n",
    "copy_arr = []\n",
    "for item in arr6:\n",
    "    copy_arr.append(item)\n",
    "print(\"Copied array:\", copy_arr)"
   ]
  },
  {
   "cell_type": "code",
   "execution_count": 11,
   "id": "0be96bdf",
   "metadata": {},
   "outputs": [
    {
     "name": "stdout",
     "output_type": "stream",
     "text": [
      "After insertion: [1, 2, 250, 3, 4]\n"
     ]
    }
   ],
   "source": [
    "#7. Write a function to insert an element at a specific position in the arrayarr7 = [100, 200, 300, 400]\n",
    "insert_value = 250\n",
    "position = 2\n",
    "new_arr = []\n",
    "for i in range(len(arr7) + 1):\n",
    "    if i < position:\n",
    "        new_arr.append(arr[i])\n",
    "    elif i == position:\n",
    "        new_arr.append(insert_value)\n",
    "    else:\n",
    "        new_arr.append(arr[i - 1])\n",
    "print(\"After insertion:\", new_arr)"
   ]
  },
  {
   "cell_type": "code",
   "execution_count": 12,
   "id": "fa87922e",
   "metadata": {},
   "outputs": [
    {
     "name": "stdout",
     "output_type": "stream",
     "text": [
      "Minimum: 2 Maximum: 15\n"
     ]
    }
   ],
   "source": [
    "#8. Write a function to find the minimum and maximum value of an array\n",
    "arr8 = [8, 3, 15, 6, 2, 12]\n",
    "min_value = arr8[0]\n",
    "max_value = arr8[0]\n",
    "for num in arr8:\n",
    "    if num < min_value:\n",
    "        min_value = num\n",
    "    if num > max_value:\n",
    "        max_value = num\n",
    "print(\"Minimum:\", min_value, \"Maximum:\", max_value)"
   ]
  },
  {
   "cell_type": "code",
   "execution_count": 13,
   "id": "2dca624e",
   "metadata": {},
   "outputs": [
    {
     "name": "stdout",
     "output_type": "stream",
     "text": [
      "Reversed array: [5, 4, 3, 2, 1]\n"
     ]
    }
   ],
   "source": [
    "#9. Write a function to reverse an array of integer values\n",
    "arr9 = [1, 2, 3, 4, 5]\n",
    "rev_arr9 = []\n",
    "for i in range(len(arr9) - 1, -1, -1):\n",
    "    rev_arr9.append(arr9[i])\n",
    "print(\"Reversed array:\", rev_arr9)"
   ]
  },
  {
   "cell_type": "code",
   "execution_count": 14,
   "id": "ce9387be",
   "metadata": {},
   "outputs": [
    {
     "name": "stdout",
     "output_type": "stream",
     "text": [
      "Duplicate values: [2, 1]\n"
     ]
    }
   ],
   "source": [
    "#10. Write a function to find the duplicate values of an array\n",
    "arr10 = [1, 2, 3, 2, 4, 5, 1]\n",
    "duplicates = []\n",
    "checked = []\n",
    "for num in arr10:\n",
    "    if num in checked and num not in duplicates:\n",
    "        duplicates.append(num)\n",
    "    checked.append(num)\n",
    "print(\"Duplicate values:\", duplicates)"
   ]
  },
  {
   "cell_type": "code",
   "execution_count": 15,
   "id": "b6d73dc9",
   "metadata": {},
   "outputs": [
    {
     "name": "stdout",
     "output_type": "stream",
     "text": [
      "Common values: [3, 4, 5]\n"
     ]
    }
   ],
   "source": [
    "#11. Write a program to find the common values between two arrays\n",
    "arr11_1 = [1, 2, 3, 4, 5]\n",
    "arr11_2 = [3, 4, 5, 6, 7]\n",
    "common_values = []\n",
    "for num in arr11_1:\n",
    "    if num in arr11_2 and num not in common_values:\n",
    "        common_values.append(num)\n",
    "print(\"Common values:\", common_values)"
   ]
  },
  {
   "cell_type": "code",
   "execution_count": 16,
   "id": "e8dc1591",
   "metadata": {},
   "outputs": [
    {
     "name": "stdout",
     "output_type": "stream",
     "text": [
      "Array after removing duplicates: [10, 20, 30, 40, 50]\n"
     ]
    }
   ],
   "source": [
    "#12. Write a method to remove duplicate elements from an array\n",
    "arr12 = [10, 20, 30, 20, 40, 10, 50]\n",
    "unique_arr12 = []\n",
    "for num in arr12:\n",
    "    if num not in unique_arr12:\n",
    "        unique_arr12.append(num)\n",
    "print(\"Array after removing duplicates:\", unique_arr12)"
   ]
  },
  {
   "cell_type": "code",
   "execution_count": 17,
   "id": "d1bbf0b3",
   "metadata": {},
   "outputs": [
    {
     "name": "stdout",
     "output_type": "stream",
     "text": [
      "Second largest number: 45\n"
     ]
    }
   ],
   "source": [
    "#13. Write a method to find the second largest number in an array\n",
    "arr13 = [10, 20, 4, 45, 99, 99]\n",
    "largest = second_largest = float('-inf')\n",
    "for num in arr13:\n",
    "    if num > largest:\n",
    "        second_largest = largest\n",
    "        largest = num\n",
    "    elif num > second_largest and num != largest:\n",
    "        second_largest = num\n",
    "print(\"Second largest number:\", second_largest)"
   ]
  },
  {
   "cell_type": "code",
   "execution_count": 18,
   "id": "6b1b9c1f",
   "metadata": {},
   "outputs": [
    {
     "name": "stdout",
     "output_type": "stream",
     "text": [
      "Second smallest number: 2\n"
     ]
    }
   ],
   "source": [
    "#14. Write a method to find the second largest number in an array\n",
    "arr14 = [5, 2, 8, 1, 3, 3, 9]\n",
    "smallest = second_smallest = float('inf')\n",
    "for num in arr14:\n",
    "    if num < smallest:\n",
    "        second_smallest = smallest\n",
    "        smallest = num\n",
    "    elif num < second_smallest and num != smallest:\n",
    "        second_smallest = num\n",
    "print(\"Second smallest number:\", second_smallest)"
   ]
  },
  {
   "cell_type": "code",
   "execution_count": 19,
   "id": "5e2a0062",
   "metadata": {},
   "outputs": [
    {
     "name": "stdout",
     "output_type": "stream",
     "text": [
      "Even numbers: 4 Odd numbers: 3\n"
     ]
    }
   ],
   "source": [
    "#15. Write a method to find number of even number and odd numbers in an array\n",
    "arr15 = [10, 15, 20, 25, 30, 35, 40]\n",
    "even_count = 0\n",
    "odd_count = 0\n",
    "for num in arr15:\n",
    "    if num % 2 == 0:\n",
    "        even_count += 1\n",
    "    else:\n",
    "        odd_count += 1\n",
    "print(\"Even numbers:\", even_count, \"Odd numbers:\", odd_count)"
   ]
  },
  {
   "cell_type": "code",
   "execution_count": 20,
   "id": "9b72043e",
   "metadata": {},
   "outputs": [
    {
     "name": "stdout",
     "output_type": "stream",
     "text": [
      "Difference between largest and smallest: 88\n"
     ]
    }
   ],
   "source": [
    "#16. Write a function to get the difference of largest and smallest value\n",
    "arr16 = [12, 4, 56, 89, 1, 34]\n",
    "min_value16 = arr16[0]\n",
    "max_value16 = arr16[0]\n",
    "for num in arr16:\n",
    "    if num < min_value16:\n",
    "        min_value16 = num\n",
    "    if num > max_value16:\n",
    "        max_value16 = num\n",
    "difference = max_value16 - min_value16\n",
    "print(\"Difference between largest and smallest:\", difference)"
   ]
  },
  {
   "cell_type": "code",
   "execution_count": 3,
   "id": "5d42ccc7",
   "metadata": {},
   "outputs": [
    {
     "name": "stdout",
     "output_type": "stream",
     "text": [
      "The two elements are in the array\n"
     ]
    }
   ],
   "source": [
    "#17. Write a method to verify if the array contains two specified elements(12,23)\n",
    "arr17=[1,2,2,4,5,12,23]\n",
    "def contains(arr17,one,two):\n",
    "    if one in arr17 and two in arr17:\n",
    "        print(\"The two elements are in the array\")\n",
    "    else:\n",
    "        print(\"Either one or two elements are not there in the aray\")\n",
    "contains(arr17,12,23)\n",
    "\n",
    "\n"
   ]
  },
  {
   "cell_type": "code",
   "execution_count": 4,
   "id": "23c00c60",
   "metadata": {},
   "outputs": [
    {
     "name": "stdout",
     "output_type": "stream",
     "text": [
      "The new array is  1 2 4 5\n"
     ]
    }
   ],
   "source": [
    "#18.write a programme to remove the duplicates from the array and return the newarr\n",
    "arr18=[1,2,2,4,5]\n",
    "newarr=[]\n",
    "for i in arr18:\n",
    "    if i not in newarr:\n",
    "        newarr.append(i)\n",
    "    else:\n",
    "        continue\n",
    "print(\"The new array is \",*newarr)\n"
   ]
  },
  {
   "cell_type": "code",
   "execution_count": null,
   "id": "a9f8669a",
   "metadata": {},
   "outputs": [],
   "source": []
  }
 ],
 "metadata": {
  "kernelspec": {
   "display_name": "Python 3 (ipykernel)",
   "language": "python",
   "name": "python3"
  },
  "language_info": {
   "codemirror_mode": {
    "name": "ipython",
    "version": 3
   },
   "file_extension": ".py",
   "mimetype": "text/x-python",
   "name": "python",
   "nbconvert_exporter": "python",
   "pygments_lexer": "ipython3",
   "version": "3.11.7"
  }
 },
 "nbformat": 4,
 "nbformat_minor": 5
}
