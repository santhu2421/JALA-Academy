{
 "cells": [
  {
   "cell_type": "code",
   "execution_count": 42,
   "id": "ec167558",
   "metadata": {},
   "outputs": [],
   "source": [
    "class A:\n",
    "    def __init__(self):\n",
    "        self.var_a = \"Variable in Class A\"\n",
    "\n",
    "    def method1(self):\n",
    "        print(\"Method1 from Class A\")\n",
    "\n",
    "    def method2(self):\n",
    "        print(\"Method2 from Class A\")\n",
    "\n",
    "    def override_method(self):\n",
    "        print(\"Overridden method in Class A\")\n",
    "\n",
    "class B(A):  # B is subclass of A\n",
    "    def __init__(self):\n",
    "        super().__init__()\n",
    "        self.var_b = \"Variable in Class B\"\n",
    "\n",
    "    def method3(self):\n",
    "        print(\"Method3 from Class B\")\n",
    "\n",
    "    def method4(self):\n",
    "        print(\"Method4 from Class B\")\n",
    "\n",
    "    def override_method(self):\n",
    "        print(\"Overridden method in Class B\")\n",
    "\n",
    "class C(B):  # C is subclass of B\n",
    "    def __init__(self):\n",
    "        super().__init__()\n",
    "        self.var_c = \"Variable in Class C\"\n",
    "\n",
    "    def method5(self):\n",
    "        print(\"Method5 from Class C\")\n",
    "\n",
    "    def method6(self):\n",
    "        print(\"Method6 from Class C\")\n",
    "\n",
    "    def override_method(self):\n",
    "        print(\"Overridden method in Class C\")"
   ]
  },
  {
   "cell_type": "code",
   "execution_count": 43,
   "id": "d6d0df41",
   "metadata": {},
   "outputs": [],
   "source": [
    "class Main:\n",
    "    def main():\n",
    "        print(\"### Object of Class A ###\")\n",
    "        obj_a = A()\n",
    "        obj_a.method1()\n",
    "        obj_a.method2()\n",
    "        obj_a.override_method()\n",
    "        print(obj_a.var_a)\n",
    "        \n",
    "        print(\"\\n### Object of Class B ###\")\n",
    "        obj_b = B()\n",
    "        obj_b.method1()\n",
    "        obj_b.method2()\n",
    "        obj_b.method3()\n",
    "        obj_b.method4()\n",
    "        obj_b.override_method()\n",
    "        print(obj_b.var_a, obj_b.var_b)\n",
    "\n",
    "        print(\"\\n### Object of Class C ###\")\n",
    "        obj_c = C()\n",
    "        obj_c.method1()\n",
    "        obj_c.method2()\n",
    "        obj_c.method3()\n",
    "        obj_c.method4()\n",
    "        obj_c.method5()\n",
    "        obj_c.method6()\n",
    "        obj_c.override_method()\n",
    "        print(obj_c.var_a, obj_c.var_b, obj_c.var_c)"
   ]
  },
  {
   "cell_type": "code",
   "execution_count": 45,
   "id": "5bdff4c0",
   "metadata": {},
   "outputs": [
    {
     "name": "stdout",
     "output_type": "stream",
     "text": [
      "\n",
      "### Overridden method with superclass reference ###\n",
      "Overridden method in Class A\n",
      "Overridden method in Class B\n",
      "Overridden method in Class C\n"
     ]
    }
   ],
   "source": [
    "        print(\"\\n### Overridden method with superclass reference ###\")\n",
    "        obj_ref1 = A()\n",
    "        obj_ref2 = B()\n",
    "        obj_ref3 = C()\n",
    "\n",
    "        obj_ref1.override_method()  # Calls Class A's override method\n",
    "        obj_ref2.override_method()  # Calls Class B's override method\n",
    "        obj_ref3.override_method()  # Calls Class C's override method"
   ]
  },
  {
   "cell_type": "code",
   "execution_count": 46,
   "id": "1a1a9338",
   "metadata": {},
   "outputs": [
    {
     "name": "stdout",
     "output_type": "stream",
     "text": [
      "\n",
      "### Runtime Polymorphism with Data Members ###\n",
      "Variable in Class A\n",
      "Variable in Class A Variable in Class B\n",
      "Variable in Class A Variable in Class B Variable in Class C\n"
     ]
    }
   ],
   "source": [
    "        print(\"\\n### Runtime Polymorphism with Data Members ###\")\n",
    "        ref_a = A()\n",
    "        ref_b = B()\n",
    "        ref_c = C()\n",
    "\n",
    "        print(ref_a.var_a)  # From Class A\n",
    "        print(ref_b.var_a, ref_b.var_b)  # From Class B\n",
    "        print(ref_c.var_a, ref_c.var_b, ref_c.var_c)  # From Class C"
   ]
  },
  {
   "cell_type": "code",
   "execution_count": null,
   "id": "18397f3e",
   "metadata": {},
   "outputs": [],
   "source": []
  }
 ],
 "metadata": {
  "kernelspec": {
   "display_name": "Python 3 (ipykernel)",
   "language": "python",
   "name": "python3"
  },
  "language_info": {
   "codemirror_mode": {
    "name": "ipython",
    "version": 3
   },
   "file_extension": ".py",
   "mimetype": "text/x-python",
   "name": "python",
   "nbconvert_exporter": "python",
   "pygments_lexer": "ipython3",
   "version": "3.11.7"
  }
 },
 "nbformat": 4,
 "nbformat_minor": 5
}
