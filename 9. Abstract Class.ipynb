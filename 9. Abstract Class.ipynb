{
 "cells": [
  {
   "cell_type": "code",
   "execution_count": 74,
   "id": "a95b7f67",
   "metadata": {},
   "outputs": [],
   "source": [
    "#1. Create an abstract class with abstract and non-abstract methods.\n",
    "from abc import ABC, abstractmethod\n",
    "\n",
    "class AbstractClass(ABC):\n",
    "    def __init__(self):\n",
    "        self.data = \"Non-Abstract Data\"\n",
    "\n",
    "    @abstractmethod\n",
    "    def abstract_method(self):\n",
    "        pass\n",
    "\n",
    "    def non_abstract_method(self):\n",
    "        print(\"This is a non-abstract method from AbstractClass\")\n"
   ]
  },
  {
   "cell_type": "code",
   "execution_count": 75,
   "id": "bf2b0af5",
   "metadata": {},
   "outputs": [
    {
     "name": "stdout",
     "output_type": "stream",
     "text": [
      "This is a non-abstract method from AbstractClass\n"
     ]
    }
   ],
   "source": [
    "#2. Create a sub class for an abstract class. Create an object in the child class for the\n",
    "# abstract class and access the non-abstract methods\n",
    "class ChildClass(AbstractClass):\n",
    "    def abstract_method(self):\n",
    "        print(\"Implementation of abstract method in ChildClass\")\n",
    "\n",
    "    def access_non_abstract(self):\n",
    "        obj = AbstractClass.__subclasses__()[0]()  # Creating an instance of ChildClass dynamically\n",
    "        obj.non_abstract_method()\n",
    "\n",
    "child_obj = ChildClass()\n",
    "child_obj.access_non_abstract()\n"
   ]
  },
  {
   "cell_type": "code",
   "execution_count": 76,
   "id": "12f9c62e",
   "metadata": {},
   "outputs": [
    {
     "name": "stdout",
     "output_type": "stream",
     "text": [
      "Implementation of abstract method in ChildClass\n"
     ]
    }
   ],
   "source": [
    "#3. Create an instance for the child class in child class and call abstract methods\n",
    "class ChildClass(AbstractClass):\n",
    "    def abstract_method(self):\n",
    "        print(\"Implementation of abstract method in ChildClass\")\n",
    "\n",
    "    def call_abstract_method(self):\n",
    "        obj = ChildClass()\n",
    "        obj.abstract_method()\n",
    "\n",
    "child_obj = ChildClass()\n",
    "child_obj.call_abstract_method()\n"
   ]
  },
  {
   "cell_type": "code",
   "execution_count": 78,
   "id": "fb961bed",
   "metadata": {},
   "outputs": [
    {
     "name": "stdout",
     "output_type": "stream",
     "text": [
      "This is a non-abstract method from AbstractClass\n"
     ]
    }
   ],
   "source": [
    "#4. Create an instance for the child class in child class and call non-abstract methods\n",
    "class ChildClass(AbstractClass):\n",
    "    def abstract_method(self):\n",
    "        print(\"Implementation of abstract method in ChildClass\")\n",
    "\n",
    "    def call_non_abstract_method(self):\n",
    "        obj = ChildClass()\n",
    "        obj.non_abstract_method()\n",
    "\n",
    "child_obj = ChildClass()\n",
    "child_obj.call_non_abstract_method()\n"
   ]
  },
  {
   "cell_type": "code",
   "execution_count": null,
   "id": "d0590180",
   "metadata": {},
   "outputs": [],
   "source": []
  }
 ],
 "metadata": {
  "kernelspec": {
   "display_name": "Python 3 (ipykernel)",
   "language": "python",
   "name": "python3"
  },
  "language_info": {
   "codemirror_mode": {
    "name": "ipython",
    "version": 3
   },
   "file_extension": ".py",
   "mimetype": "text/x-python",
   "name": "python",
   "nbconvert_exporter": "python",
   "pygments_lexer": "ipython3",
   "version": "3.11.7"
  }
 },
 "nbformat": 4,
 "nbformat_minor": 5
}
