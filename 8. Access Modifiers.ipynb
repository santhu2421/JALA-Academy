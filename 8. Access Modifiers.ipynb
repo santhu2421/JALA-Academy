{
 "cells": [
  {
   "cell_type": "code",
   "execution_count": 52,
   "id": "34da8508",
   "metadata": {},
   "outputs": [
    {
     "name": "stdout",
     "output_type": "stream",
     "text": [
      "Private Variable in Parent\n",
      "Private Method in Parent\n",
      "Cannot access private variable from subclass\n",
      "Cannot access private method from subclass\n"
     ]
    }
   ],
   "source": [
    "# 1. Create a class with PRIVATE fields, private method and a main method. Print the fields\n",
    "# in main method. Call the private method in main method.\n",
    "# Create a sub class and try to access the private fields and methods from sub class.\n",
    "class Parent:\n",
    "    def __init__(self):\n",
    "        self.__private_var = \"Private Variable in Parent\"\n",
    "\n",
    "    def __private_method(self):\n",
    "        print(\"Private Method in Parent\")\n",
    "\n",
    "    def access_private_method(self):\n",
    "        self.__private_method()\n",
    "\n",
    "    def get_private_var(self):\n",
    "        return self.__private_var\n",
    "\n",
    "class Child(Parent):\n",
    "    def access_parent_private(self):\n",
    "        try:\n",
    "            print(self.__private_var)\n",
    "        except AttributeError:\n",
    "            print(\"Cannot access private variable from subclass\")\n",
    "\n",
    "        try:\n",
    "            self.__private_method()\n",
    "        except AttributeError:\n",
    "            print(\"Cannot access private method from subclass\")\n",
    "\n",
    "class Main:\n",
    "    def main():\n",
    "        obj = Parent()\n",
    "        print(obj.get_private_var())\n",
    "        obj.access_private_method()\n",
    "\n",
    "        child_obj = Child()\n",
    "        child_obj.access_parent_private()\n",
    "\n",
    "Main.main()\n"
   ]
  },
  {
   "cell_type": "code",
   "execution_count": 55,
   "id": "457da723",
   "metadata": {},
   "outputs": [
    {
     "name": "stdout",
     "output_type": "stream",
     "text": [
      "Accessing from the same module: Protected Variable in Parent\n",
      "Protected Method in Parent\n"
     ]
    }
   ],
   "source": [
    "# 2. Create a class with PROTECTED fields and methods. Access these fields and methods\n",
    "# from any other class in the same package.\n",
    "# Also, Access the PROTECTED fields and methods from child class located in a different\n",
    "# package\n",
    "# Access the PROTECTED fields and methods from any class in different package\n",
    "class Parent:\n",
    "    def __init__(self):\n",
    "        self._protected_var = \"Protected Variable in Parent\"\n",
    "\n",
    "    def _protected_method(self):\n",
    "        print(\"Protected Method in Parent\")\n",
    "\n",
    "class OtherClass:\n",
    "    def access_protected():\n",
    "        obj = Parent()\n",
    "        print(\"Accessing from the same module:\", obj._protected_var)\n",
    "        obj._protected_method()\n",
    "\n",
    "if __name__ == \"__main__\":\n",
    "    OtherClass.access_protected()\n"
   ]
  },
  {
   "cell_type": "code",
   "execution_count": 63,
   "id": "083a8120",
   "metadata": {},
   "outputs": [
    {
     "name": "stdout",
     "output_type": "stream",
     "text": [
      "Accessing from subclass: Protected Variable in Parent\n",
      "Protected Method in Parent\n"
     ]
    }
   ],
   "source": [
    "\n",
    "\n",
    "class Child(Parent):\n",
    "    def access_protected_in_child(self):\n",
    "        print(\"Accessing from subclass:\", self._protected_var)\n",
    "        self._protected_method()\n",
    "\n",
    "if __name__ == \"__main__\":\n",
    "    obj_child = Child()\n",
    "    obj_child.access_protected_in_child()\n"
   ]
  },
  {
   "cell_type": "code",
   "execution_count": 64,
   "id": "7a182fac",
   "metadata": {},
   "outputs": [
    {
     "name": "stdout",
     "output_type": "stream",
     "text": [
      "Accessing from the same module: Public Variable in Parent\n",
      "Public Method in Parent\n"
     ]
    }
   ],
   "source": [
    "# 3. Create a class with PUBLIC fields and methods.\n",
    "# Access the public methods and fields from any class in the same package or different\n",
    "# package.\n",
    "class Parent:\n",
    "    def __init__(self):\n",
    "        self.public_var = \"Public Variable in Parent\"\n",
    "\n",
    "    def public_method(self):\n",
    "        print(\"Public Method in Parent\")\n",
    "\n",
    "class OtherClass:\n",
    "    def access_public():\n",
    "        obj = Parent()\n",
    "        print(\"Accessing from the same module:\", obj.public_var)\n",
    "        obj.public_method()\n",
    "\n",
    "if __name__ == \"__main__\":\n",
    "    OtherClass.access_public()\n"
   ]
  },
  {
   "cell_type": "code",
   "execution_count": 72,
   "id": "f604c0f5",
   "metadata": {},
   "outputs": [
    {
     "name": "stdout",
     "output_type": "stream",
     "text": [
      "Accessing from subclass: Public Variable in Parent\n",
      "Public Method in Parent\n"
     ]
    }
   ],
   "source": [
    "\n",
    "\n",
    "class Child(Parent):\n",
    "    def access_public_in_child(self):\n",
    "        print(\"Accessing from subclass:\", self.public_var)\n",
    "        self.public_method()\n",
    "\n",
    "if __name__ == \"__main__\":\n",
    "    obj_child = Child()\n",
    "    obj_child.access_public_in_child()\n"
   ]
  },
  {
   "cell_type": "code",
   "execution_count": 73,
   "id": "cc6224c2",
   "metadata": {},
   "outputs": [
    {
     "name": "stdout",
     "output_type": "stream",
     "text": [
      "Accessing from an unrelated class: Public Variable in Parent\n",
      "Public Method in Parent\n"
     ]
    }
   ],
   "source": [
    "class UnrelatedClass:\n",
    "    def access_public_unrelated(self):\n",
    "        obj = Parent()\n",
    "        print(\"Accessing from an unrelated class:\", obj.public_var)\n",
    "        obj.public_method()\n",
    "\n",
    "if __name__ == \"__main__\":\n",
    "    obj_unrelated = UnrelatedClass()\n",
    "    obj_unrelated.access_public_unrelated()"
   ]
  },
  {
   "cell_type": "code",
   "execution_count": null,
   "id": "f526897c",
   "metadata": {},
   "outputs": [],
   "source": []
  }
 ],
 "metadata": {
  "kernelspec": {
   "display_name": "Python 3 (ipykernel)",
   "language": "python",
   "name": "python3"
  },
  "language_info": {
   "codemirror_mode": {
    "name": "ipython",
    "version": 3
   },
   "file_extension": ".py",
   "mimetype": "text/x-python",
   "name": "python",
   "nbconvert_exporter": "python",
   "pygments_lexer": "ipython3",
   "version": "3.11.7"
  }
 },
 "nbformat": 4,
 "nbformat_minor": 5
}
