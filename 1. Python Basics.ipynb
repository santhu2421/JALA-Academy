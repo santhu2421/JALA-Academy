{
 "cells": [
  {
   "cell_type": "code",
   "execution_count": 1,
   "id": "2383633b",
   "metadata": {},
   "outputs": [
    {
     "name": "stdout",
     "output_type": "stream",
     "text": [
      "SANTHOSH PANINGAPLLI\n"
     ]
    }
   ],
   "source": [
    "#1. Write a program to print your name.\n",
    "print(\"SANTHOSH PANINGAPLLI\")"
   ]
  },
  {
   "cell_type": "code",
   "execution_count": 2,
   "id": "cac438a0",
   "metadata": {},
   "outputs": [
    {
     "name": "stdout",
     "output_type": "stream",
     "text": [
      "Comments in Python\n"
     ]
    }
   ],
   "source": [
    "#2. Write a program for a Single line comment and multi-line comments\n",
    "\"\"\"\n",
    "This is a multi-line comment.\n",
    "It can span multiple lines.\n",
    "\"\"\"\n",
    "print(\"Comments in Python\") "
   ]
  },
  {
   "cell_type": "code",
   "execution_count": 6,
   "id": "6eb9b09d",
   "metadata": {},
   "outputs": [
    {
     "name": "stdout",
     "output_type": "stream",
     "text": [
      "Integer: 1110\n",
      "Boolean: True\n",
      "Character: santhosh\n",
      "Float: 100.5\n",
      "Double: 102.54698761236\n"
     ]
    }
   ],
   "source": [
    "#3. Define variables for different Data Types int, Boolean, char, float, double and print on the Console\n",
    "int_var = 1110               \n",
    "bool_var = True            \n",
    "char_var = 'santhosh'             \n",
    "float_var = 100.5           \n",
    "double_var = 102.54698761236 \n",
    "\n",
    "print(\"Integer:\", int_var)\n",
    "print(\"Boolean:\", bool_var)\n",
    "print(\"Character:\", char_var)\n",
    "print(\"Float:\", float_var)\n",
    "print(\"Double:\", double_var)  \n"
   ]
  },
  {
   "cell_type": "code",
   "execution_count": 9,
   "id": "875ce808",
   "metadata": {},
   "outputs": [
    {
     "name": "stdout",
     "output_type": "stream",
     "text": [
      "Inside function: I am a local variable\n",
      "Outside function: I am a global variable\n"
     ]
    }
   ],
   "source": [
    "#4. Define the local and Global variables with the same name and print both variables and understand the scope of the variables\n",
    "global_var = \"I am a global variable\" \n",
    "\n",
    "def my_function():\n",
    "    global_var = \"I am a local variable\"  \n",
    "    print(\"Inside function:\", global_var) \n",
    "\n",
    "my_function()\n",
    "print(\"Outside function:\", global_var)  \n"
   ]
  },
  {
   "cell_type": "code",
   "execution_count": null,
   "id": "2aba7f8f",
   "metadata": {},
   "outputs": [],
   "source": []
  }
 ],
 "metadata": {
  "kernelspec": {
   "display_name": "Python 3 (ipykernel)",
   "language": "python",
   "name": "python3"
  },
  "language_info": {
   "codemirror_mode": {
    "name": "ipython",
    "version": 3
   },
   "file_extension": ".py",
   "mimetype": "text/x-python",
   "name": "python",
   "nbconvert_exporter": "python",
   "pygments_lexer": "ipython3",
   "version": "3.11.7"
  }
 },
 "nbformat": 4,
 "nbformat_minor": 5
}
