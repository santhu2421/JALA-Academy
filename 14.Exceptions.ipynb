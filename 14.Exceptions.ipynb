{
 "cells": [
  {
   "cell_type": "code",
   "execution_count": 5,
   "id": "cce916c9",
   "metadata": {},
   "outputs": [
    {
     "ename": "ZeroDivisionError",
     "evalue": "division by zero",
     "output_type": "error",
     "traceback": [
      "\u001b[1;31m---------------------------------------------------------------------------\u001b[0m",
      "\u001b[1;31mZeroDivisionError\u001b[0m                         Traceback (most recent call last)",
      "Cell \u001b[1;32mIn[5], line 3\u001b[0m\n\u001b[0;32m      1\u001b[0m \u001b[38;5;66;03m# 1. Write a program to generate Arithmetic Exception without exception handling \u001b[39;00m\n\u001b[1;32m----> 3\u001b[0m result \u001b[38;5;241m=\u001b[39m \u001b[38;5;241;43m10\u001b[39;49m\u001b[43m \u001b[49m\u001b[38;5;241;43m/\u001b[39;49m\u001b[43m \u001b[49m\u001b[38;5;241;43m0\u001b[39;49m  \n\u001b[0;32m      4\u001b[0m \u001b[38;5;28mprint\u001b[39m(result)\n",
      "\u001b[1;31mZeroDivisionError\u001b[0m: division by zero"
     ]
    }
   ],
   "source": [
    "# 1. Write a program to generate Arithmetic Exception without exception handling \n",
    "\n",
    "result = 10 / 0  \n",
    "print(result)\n",
    "\n"
   ]
  },
  {
   "cell_type": "code",
   "execution_count": 2,
   "id": "40063b00",
   "metadata": {},
   "outputs": [
    {
     "name": "stdout",
     "output_type": "stream",
     "text": [
      "Arithmetic Exception: Division by zero is not allowed\n",
      "\n"
     ]
    }
   ],
   "source": [
    "# 2. Handle the Arithmetic exception using try-catch block  \n",
    "\n",
    "try:\n",
    "    result = 10 / 0\n",
    "except ZeroDivisionError:\n",
    "    print(\"Arithmetic Exception: Division by zero is not allowed\")\n",
    "print()\n"
   ]
  },
  {
   "cell_type": "code",
   "execution_count": 6,
   "id": "b261f549",
   "metadata": {},
   "outputs": [
    {
     "ename": "ValueError",
     "evalue": "This is a manually raised exception",
     "output_type": "error",
     "traceback": [
      "\u001b[1;31m---------------------------------------------------------------------------\u001b[0m",
      "\u001b[1;31mValueError\u001b[0m                                Traceback (most recent call last)",
      "Cell \u001b[1;32mIn[6], line 6\u001b[0m\n\u001b[0;32m      3\u001b[0m \u001b[38;5;28;01mdef\u001b[39;00m \u001b[38;5;21mthrow_exception\u001b[39m():\n\u001b[0;32m      4\u001b[0m     \u001b[38;5;28;01mraise\u001b[39;00m \u001b[38;5;167;01mValueError\u001b[39;00m(\u001b[38;5;124m\"\u001b[39m\u001b[38;5;124mThis is a manually raised exception\u001b[39m\u001b[38;5;124m\"\u001b[39m)\n\u001b[1;32m----> 6\u001b[0m \u001b[43mthrow_exception\u001b[49m\u001b[43m(\u001b[49m\u001b[43m)\u001b[49m\n\u001b[0;32m      7\u001b[0m \u001b[38;5;28mprint\u001b[39m()\n",
      "Cell \u001b[1;32mIn[6], line 4\u001b[0m, in \u001b[0;36mthrow_exception\u001b[1;34m()\u001b[0m\n\u001b[0;32m      3\u001b[0m \u001b[38;5;28;01mdef\u001b[39;00m \u001b[38;5;21mthrow_exception\u001b[39m():\n\u001b[1;32m----> 4\u001b[0m     \u001b[38;5;28;01mraise\u001b[39;00m \u001b[38;5;167;01mValueError\u001b[39;00m(\u001b[38;5;124m\"\u001b[39m\u001b[38;5;124mThis is a manually raised exception\u001b[39m\u001b[38;5;124m\"\u001b[39m)\n",
      "\u001b[1;31mValueError\u001b[0m: This is a manually raised exception"
     ]
    }
   ],
   "source": [
    "# 3. Write a method which throws exception, Call that method in main class without try block  \n",
    "\n",
    "def throw_exception():\n",
    "    raise ValueError(\"This is a manually raised exception\")\n",
    "\n",
    "throw_exception()\n",
    "print()"
   ]
  },
  {
   "cell_type": "code",
   "execution_count": 8,
   "id": "e871e1e0",
   "metadata": {},
   "outputs": [
    {
     "name": "stdout",
     "output_type": "stream",
     "text": [
      "Invalid input: Cannot convert string to integer\n",
      "\n"
     ]
    }
   ],
   "source": [
    "3# 4. Write a program with multiple catch blocks \n",
    "try:\n",
    "    num = int(\"abc\")  \n",
    "except ZeroDivisionError:\n",
    "    print(\"Cannot divide by zero\")\n",
    "except ValueError:\n",
    "    print(\"Invalid input: Cannot convert string to integer\")\n",
    "print()"
   ]
  },
  {
   "cell_type": "code",
   "execution_count": 9,
   "id": "8b77fc66",
   "metadata": {},
   "outputs": [
    {
     "name": "stdout",
     "output_type": "stream",
     "text": [
      "This is a custom exception message\n",
      "\n"
     ]
    }
   ],
   "source": [
    "# 5. Write a program to throw exception with your own message  \n",
    "\n",
    "try:\n",
    "    raise Exception(\"This is a custom exception message\")\n",
    "except Exception as e:\n",
    "    print(e)\n",
    "print()"
   ]
  },
  {
   "cell_type": "code",
   "execution_count": 10,
   "id": "583bbb31",
   "metadata": {},
   "outputs": [
    {
     "name": "stdout",
     "output_type": "stream",
     "text": [
      "Caught MyCustomException: This is my own custom exception\n"
     ]
    }
   ],
   "source": [
    "# 6. Write a program to create your own exception  \n",
    "\n",
    "class MyCustomException(Exception):\n",
    "    def __init__(self, message):\n",
    "        self.message = message\n",
    "        super().__init__(self.message)\n",
    "\n",
    "try:\n",
    "    raise MyCustomException(\"This is my own custom exception\")\n",
    "except MyCustomException as e:\n",
    "    print(f\"Caught MyCustomException: {e}\")"
   ]
  },
  {
   "cell_type": "code",
   "execution_count": 11,
   "id": "50708599",
   "metadata": {},
   "outputs": [
    {
     "name": "stdout",
     "output_type": "stream",
     "text": [
      "Result: 5.0\n",
      "This block always executes\n",
      "\n"
     ]
    }
   ],
   "source": [
    "# 7. Write a program with finally block  \n",
    "\n",
    "try:\n",
    "    result = 10 / 2\n",
    "    print(\"Result:\", result)\n",
    "except ZeroDivisionError:\n",
    "    print(\"Cannot divide by zero\")\n",
    "finally:\n",
    "    print(\"This block always executes\")\n",
    "print()"
   ]
  },
  {
   "cell_type": "code",
   "execution_count": 12,
   "id": "20e4612b",
   "metadata": {},
   "outputs": [
    {
     "name": "stdout",
     "output_type": "stream",
     "text": [
      "Caught an Arithmetic Exception\n",
      "\n"
     ]
    }
   ],
   "source": [
    "# 8. Write a program to generate Arithmetic Exception  \n",
    "\n",
    "try:\n",
    "    result = 10 / 0\n",
    "except ArithmeticError:\n",
    "    print(\"Caught an Arithmetic Exception\")\n",
    "print()"
   ]
  },
  {
   "cell_type": "code",
   "execution_count": 13,
   "id": "85fb5c38",
   "metadata": {},
   "outputs": [
    {
     "name": "stdout",
     "output_type": "stream",
     "text": [
      "FileNotFoundException: File does not exist\n",
      "\n"
     ]
    }
   ],
   "source": [
    "# 9. Write a program to generate FileNotFoundException  \n",
    "\n",
    "try:\n",
    "    file = open(\"non_existent_file.txt\", \"r\")\n",
    "except FileNotFoundError:\n",
    "    print(\"FileNotFoundException: File does not exist\")\n",
    "print()"
   ]
  },
  {
   "cell_type": "code",
   "execution_count": 14,
   "id": "1f9d4cea",
   "metadata": {},
   "outputs": [
    {
     "name": "stdout",
     "output_type": "stream",
     "text": [
      "ClassNotFoundException: Module not found\n",
      "\n"
     ]
    }
   ],
   "source": [
    "# 10. Write a program to generate ClassNotFoundException  \n",
    "\n",
    "try:\n",
    "    import nonexistent_module  \n",
    "except ModuleNotFoundError:\n",
    "    print(\"ClassNotFoundException: Module not found\")\n",
    "print()\n"
   ]
  },
  {
   "cell_type": "code",
   "execution_count": 15,
   "id": "57739815",
   "metadata": {},
   "outputs": [
    {
     "name": "stdout",
     "output_type": "stream",
     "text": [
      "IOException: OS Error occurred - [WinError 2] The system cannot find the file specified: 'readonly_file.txt'\n",
      "\n"
     ]
    }
   ],
   "source": [
    "# 11. Write a program to generate IOException  \n",
    "\n",
    "import os\n",
    "\n",
    "try:\n",
    "    os.remove(\"readonly_file.txt\")  \n",
    "except OSError as e:\n",
    "    print(\"IOException: OS Error occurred -\", e)\n",
    "print()"
   ]
  },
  {
   "cell_type": "code",
   "execution_count": 16,
   "id": "6410cca0",
   "metadata": {},
   "outputs": [
    {
     "name": "stdout",
     "output_type": "stream",
     "text": [
      "NoSuchFieldException: Attribute does not exist\n"
     ]
    }
   ],
   "source": [
    "# 12. Write a program to generate NoSuchFieldException  \n",
    "\n",
    "class Example:\n",
    "    def __init__(self):\n",
    "        self.value = 10\n",
    "\n",
    "obj = Example()\n",
    "try:\n",
    "    print(obj.non_existent_field)  \n",
    "except AttributeError:\n",
    "    print(\"NoSuchFieldException: Attribute does not exist\")"
   ]
  },
  {
   "cell_type": "code",
   "execution_count": null,
   "id": "83edd8c6",
   "metadata": {},
   "outputs": [],
   "source": []
  }
 ],
 "metadata": {
  "kernelspec": {
   "display_name": "Python 3 (ipykernel)",
   "language": "python",
   "name": "python3"
  },
  "language_info": {
   "codemirror_mode": {
    "name": "ipython",
    "version": 3
   },
   "file_extension": ".py",
   "mimetype": "text/x-python",
   "name": "python",
   "nbconvert_exporter": "python",
   "pygments_lexer": "ipython3",
   "version": "3.11.7"
  }
 },
 "nbformat": 4,
 "nbformat_minor": 5
}
