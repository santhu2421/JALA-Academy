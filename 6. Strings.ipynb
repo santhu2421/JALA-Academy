{
 "cells": [
  {
   "cell_type": "code",
   "execution_count": 28,
   "id": "1852dafa",
   "metadata": {},
   "outputs": [
    {
     "name": "stdout",
     "output_type": "stream",
     "text": [
      "Hello, World!\n",
      "Hello, Python!\n",
      "This is a multi-line\n",
      "string example.\n",
      "Another multi-line\n",
      "string example.\n"
     ]
    }
   ],
   "source": [
    "#1. Different ways creating a string\n",
    "str1 = \"Hello, World!\"  \n",
    "str2 = 'Hello, Python!' \n",
    "str3 = \"\"\"This is a multi-line\n",
    "string example.\"\"\"  \n",
    "str4 = '''Another multi-line\n",
    "string example.'''  \n",
    "\n",
    "print(str1, str2, str3, str4, sep=\"\\n\")"
   ]
  },
  {
   "cell_type": "code",
   "execution_count": 29,
   "id": "e3169a72",
   "metadata": {},
   "outputs": [
    {
     "name": "stdout",
     "output_type": "stream",
     "text": [
      "Concatenated String: Hello World\n"
     ]
    }
   ],
   "source": [
    "#2. Concatenating two strings using + operator\n",
    "str_a = \"Hello\"\n",
    "str_b = \"World\"\n",
    "concatenated = str_a + \" \" + str_b\n",
    "print(\"Concatenated String:\", concatenated)"
   ]
  },
  {
   "cell_type": "code",
   "execution_count": 30,
   "id": "b5ba6163",
   "metadata": {},
   "outputs": [
    {
     "name": "stdout",
     "output_type": "stream",
     "text": [
      "Length of string: 13\n"
     ]
    }
   ],
   "source": [
    "#3. Finding the length of the string\n",
    "str_length = len(str1)\n",
    "print(\"Length of string:\", str_length)"
   ]
  },
  {
   "cell_type": "code",
   "execution_count": 31,
   "id": "adf1937a",
   "metadata": {},
   "outputs": [
    {
     "name": "stdout",
     "output_type": "stream",
     "text": [
      "Extracted substring: World\n"
     ]
    }
   ],
   "source": [
    "#4. Extract a string using Substring\n",
    "\n",
    "substring = str1[7:12] \n",
    "print(\"Extracted substring:\", substring)"
   ]
  },
  {
   "cell_type": "code",
   "execution_count": 32,
   "id": "dba25cd7",
   "metadata": {},
   "outputs": [
    {
     "name": "stdout",
     "output_type": "stream",
     "text": [
      "Index of 'is': 7\n"
     ]
    }
   ],
   "source": [
    "#5. Searching in strings using index()\n",
    "search_string = \"Python is fun\"\n",
    "index = search_string.index(\"is\")  \n",
    "print(\"Index of 'is':\", index)"
   ]
  },
  {
   "cell_type": "code",
   "execution_count": 33,
   "id": "5278c609",
   "metadata": {},
   "outputs": [
    {
     "name": "stdout",
     "output_type": "stream",
     "text": [
      "Matched: 12345\n"
     ]
    }
   ],
   "source": [
    "#6. Matching a String Against a Regular Expression With matches()\n",
    "import re\n",
    "pattern = r\"\\d+\"  # Matches one or more digits\n",
    "match = re.search(pattern, \"Order number: 12345\")\n",
    "if match:\n",
    "    print(\"Matched:\", match.group())\n"
   ]
  },
  {
   "cell_type": "code",
   "execution_count": 34,
   "id": "fa8f413b",
   "metadata": {},
   "outputs": [
    {
     "name": "stdout",
     "output_type": "stream",
     "text": [
      "Strings are equal: False\n",
      "String comparison (lexicographic): True\n"
     ]
    }
   ],
   "source": [
    "#7. Comparing strings\n",
    "str_x = \"apple\"\n",
    "str_y = \"banana\"\n",
    "print(\"Strings are equal:\", str_x == str_y)\n",
    "print(\"String comparison (lexicographic):\", str_x < str_y)"
   ]
  },
  {
   "cell_type": "code",
   "execution_count": 35,
   "id": "254c8ae8",
   "metadata": {},
   "outputs": [
    {
     "name": "stdout",
     "output_type": "stream",
     "text": [
      "Starts with 'Hello': True\n",
      "Ends with 'world!': True\n"
     ]
    }
   ],
   "source": [
    "#8. startsWith(), endsWith() and compareTo()\n",
    "str_check = \"Hello, world!\"\n",
    "print(\"Starts with 'Hello':\", str_check.startswith(\"Hello\"))\n",
    "print(\"Ends with 'world!':\", str_check.endswith(\"world!\"))"
   ]
  },
  {
   "cell_type": "code",
   "execution_count": 36,
   "id": "4111ab9a",
   "metadata": {},
   "outputs": [
    {
     "name": "stdout",
     "output_type": "stream",
     "text": [
      "Trimmed string: Hello, World!\n"
     ]
    }
   ],
   "source": [
    "#9. Trimming strings with strip()\n",
    "str_trim = \"   Hello, World!   \"\n",
    "print(\"Trimmed string:\", str_trim.strip())\n"
   ]
  },
  {
   "cell_type": "code",
   "execution_count": 37,
   "id": "36275efc",
   "metadata": {},
   "outputs": [
    {
     "name": "stdout",
     "output_type": "stream",
     "text": [
      "After replacement: I like Python\n"
     ]
    }
   ],
   "source": [
    "#10. Replacing characters in strings with replace()\n",
    "str_replace = \"I like Java\"\n",
    "new_str = str_replace.replace(\"Java\", \"Python\")\n",
    "print(\"After replacement:\", new_str)"
   ]
  },
  {
   "cell_type": "code",
   "execution_count": 38,
   "id": "81aedb18",
   "metadata": {},
   "outputs": [
    {
     "name": "stdout",
     "output_type": "stream",
     "text": [
      "Splitted list: ['apple', 'banana', 'grape']\n"
     ]
    }
   ],
   "source": [
    "#11. Splitting strings with split()\n",
    "str_split = \"apple,banana,grape\"\n",
    "split_list = str_split.split(\",\")\n",
    "print(\"Splitted list:\", split_list)"
   ]
  },
  {
   "cell_type": "code",
   "execution_count": 39,
   "id": "719973c4",
   "metadata": {},
   "outputs": [
    {
     "name": "stdout",
     "output_type": "stream",
     "text": [
      "Converted to string: 100 <class 'str'>\n"
     ]
    }
   ],
   "source": [
    "#12. Converting integer objects to Strings\n",
    "num = 100\n",
    "num_str = str(num)\n",
    "print(\"Converted to string:\", num_str, type(num_str))"
   ]
  },
  {
   "cell_type": "code",
   "execution_count": 40,
   "id": "6cbd792a",
   "metadata": {},
   "outputs": [
    {
     "name": "stdout",
     "output_type": "stream",
     "text": [
      "Uppercase: PYTHON PROGRAMMING\n",
      "Lowercase: python programming\n"
     ]
    }
   ],
   "source": [
    "#13. Converting to uppercase and lowercase\n",
    "str_case = \"Python Programming\"\n",
    "print(\"Uppercase:\", str_case.upper())\n",
    "print(\"Lowercase:\", str_case.lower())"
   ]
  },
  {
   "cell_type": "code",
   "execution_count": null,
   "id": "2bb740b2",
   "metadata": {},
   "outputs": [],
   "source": []
  }
 ],
 "metadata": {
  "kernelspec": {
   "display_name": "Python 3 (ipykernel)",
   "language": "python",
   "name": "python3"
  },
  "language_info": {
   "codemirror_mode": {
    "name": "ipython",
    "version": 3
   },
   "file_extension": ".py",
   "mimetype": "text/x-python",
   "name": "python",
   "nbconvert_exporter": "python",
   "pygments_lexer": "ipython3",
   "version": "3.11.7"
  }
 },
 "nbformat": 4,
 "nbformat_minor": 5
}
