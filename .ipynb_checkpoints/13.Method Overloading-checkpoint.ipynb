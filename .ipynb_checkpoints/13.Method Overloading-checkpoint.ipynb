{
 "cells": [
  {
   "cell_type": "code",
   "execution_count": 1,
   "id": "6c07b8fb",
   "metadata": {},
   "outputs": [
    {
     "name": "stdout",
     "output_type": "stream",
     "text": [
      "Single parameter: 5\n",
      "Two parameters: 15\n",
      "\n"
     ]
    }
   ],
   "source": [
    "# 1. Write two methods with the same name but different number of parameters of same type and call the methods  \n",
    "\n",
    "class MethodOverloading1:\n",
    "    def add(self, a, b=None):\n",
    "        if b is None:\n",
    "            print(f\"Single parameter: {a}\")\n",
    "        else:\n",
    "            print(f\"Two parameters: {a + b}\")\n",
    "\n",
    "obj1 = MethodOverloading1()\n",
    "obj1.add(5)\n",
    "obj1.add(5, 10)\n",
    "print()\n"
   ]
  },
  {
   "cell_type": "code",
   "execution_count": 2,
   "id": "cca9b412",
   "metadata": {},
   "outputs": [
    {
     "name": "stdout",
     "output_type": "stream",
     "text": [
      "Integer parameter: 10\n",
      "String and Integer parameters: Hello, 20\n",
      "\n"
     ]
    }
   ],
   "source": [
    "# 2. Write two methods with the same name but different number of parameters of different data type and call the methods  \n",
    "\n",
    "class MethodOverloading2:\n",
    "    def display(self, a=None, b=None):\n",
    "        if isinstance(a, int) and b is None:\n",
    "            print(f\"Integer parameter: {a}\")\n",
    "        elif isinstance(a, str) and isinstance(b, int):\n",
    "            print(f\"String and Integer parameters: {a}, {b}\")\n",
    "\n",
    "obj2 = MethodOverloading2()\n",
    "obj2.display(10)\n",
    "obj2.display(\"Hello\", 20)\n",
    "print()"
   ]
  },
  {
   "cell_type": "code",
   "execution_count": null,
   "id": "19d1a5b9",
   "metadata": {},
   "outputs": [],
   "source": [
    "# 3. Write two methods with the same name and same number of parameters of same type  \n",
    "\n",
    "class MethodOverloading3:\n",
    "    def show(self, x):\n",
    "        print(f\"First method: {x}\")\n",
    "\n",
    "    def show(self, x):\n",
    "        print(f\"Second method: {x}\")\n",
    "\n",
    "obj3 = MethodOverloading3()\n",
    "obj3.show(50)  "
   ]
  }
 ],
 "metadata": {
  "kernelspec": {
   "display_name": "Python 3 (ipykernel)",
   "language": "python",
   "name": "python3"
  },
  "language_info": {
   "codemirror_mode": {
    "name": "ipython",
    "version": 3
   },
   "file_extension": ".py",
   "mimetype": "text/x-python",
   "name": "python",
   "nbconvert_exporter": "python",
   "pygments_lexer": "ipython3",
   "version": "3.11.7"
  }
 },
 "nbformat": 4,
 "nbformat_minor": 5
}
