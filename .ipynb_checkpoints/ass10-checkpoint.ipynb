{
 "cells": [
  {
   "cell_type": "code",
   "execution_count": 1,
   "id": "8bdc064b",
   "metadata": {},
   "outputs": [
    {
     "name": "stdout",
     "output_type": "stream",
     "text": [
      "Hello from FirstClass, Alice!\n",
      "Your age from SecondClass: 25\n"
     ]
    }
   ],
   "source": [
    "# 1.1. Create a constructor and a method for each class\n",
    "\n",
    "class FirstClass:\n",
    "    def __init__(self, name):\n",
    "        self.name = name\n",
    "    \n",
    "    def display(self):\n",
    "        print(f\"Hello from FirstClass, {self.name}!\")\n",
    "\n",
    "\n",
    "class SecondClass:\n",
    "    def __init__(self, age):\n",
    "        self.age = age\n",
    "    \n",
    "    def show(self):\n",
    "        print(f\"Your age from SecondClass: {self.age}\")\n",
    "\n",
    "\n",
    "# 1.2. Create a __init__.py for adding all packages\n",
    "# (Since we are writing everything in a single file, we simulate this by defining classes directly)\n",
    "\n",
    "\n",
    "# 1.3. Import the respective packages\n",
    "# (No need for explicit imports as classes are already defined in this file)\n",
    "\n",
    "\n",
    "# 1.4. Call each class by creating an object to it\n",
    "\n",
    "obj1 = FirstClass(\"Alice\")\n",
    "obj1.display()\n",
    "\n",
    "obj2 = SecondClass(25)\n",
    "obj2.show()"
   ]
  },
  {
   "cell_type": "code",
   "execution_count": null,
   "id": "32f89615",
   "metadata": {},
   "outputs": [],
   "source": []
  }
 ],
 "metadata": {
  "kernelspec": {
   "display_name": "Python 3 (ipykernel)",
   "language": "python",
   "name": "python3"
  },
  "language_info": {
   "codemirror_mode": {
    "name": "ipython",
    "version": 3
   },
   "file_extension": ".py",
   "mimetype": "text/x-python",
   "name": "python",
   "nbconvert_exporter": "python",
   "pygments_lexer": "ipython3",
   "version": "3.11.7"
  }
 },
 "nbformat": 4,
 "nbformat_minor": 5
}
