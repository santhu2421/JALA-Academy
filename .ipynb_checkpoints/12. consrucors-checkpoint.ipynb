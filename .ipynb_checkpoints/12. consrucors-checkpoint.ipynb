{
 "cells": [
  {
   "cell_type": "code",
   "execution_count": 1,
   "id": "c026b91a",
   "metadata": {},
   "outputs": [
    {
     "name": "stdout",
     "output_type": "stream",
     "text": [
      "Default Constructor Called\n",
      "One Argument Constructor Called: 10\n",
      "Two Argument Constructor Called: 10, 20\n",
      "\n"
     ]
    }
   ],
   "source": [
    "# 1. Write a class with a default constructor, one argument constructor, and two argument constructors. \n",
    "\n",
    "class MyClass:\n",
    "    def __init__(self, a=None, b=None):\n",
    "        if a is None and b is None:\n",
    "            print(\"Default Constructor Called\")\n",
    "        elif b is None:\n",
    "            print(f\"One Argument Constructor Called: {a}\")\n",
    "        else:\n",
    "            print(f\"Two Argument Constructor Called: {a}, {b}\")\n",
    "\n",
    "\n",
    "obj1 = MyClass()          \n",
    "obj2 = MyClass(10)       \n",
    "obj3 = MyClass(10, 20)   \n",
    "print()\n"
   ]
  },
  {
   "cell_type": "code",
   "execution_count": 2,
   "id": "d118fbc6",
   "metadata": {},
   "outputs": [
    {
     "name": "stdout",
     "output_type": "stream",
     "text": [
      "Parent Default Constructor\n",
      "Child Default Constructor\n",
      "Parent Argument Constructor: 50\n",
      "Child Argument Constructor: 50\n",
      "\n"
     ]
    }
   ],
   "source": [
    "# 2. Call the constructors (both default and argument constructors) of super class from a child class.\n",
    "\n",
    "class Parent:\n",
    "    def __init__(self, x=None):\n",
    "        if x is None:\n",
    "            print(\"Parent Default Constructor\")\n",
    "        else:\n",
    "            print(f\"Parent Argument Constructor: {x}\")\n",
    "\n",
    "class Child(Parent):\n",
    "    def __init__(self, y=None):\n",
    "        if y is None:\n",
    "            super().__init__()  \n",
    "            print(\"Child Default Constructor\")\n",
    "        else:\n",
    "            super().__init__(y)  \n",
    "            print(f\"Child Argument Constructor: {y}\")\n",
    "\n",
    "\n",
    "child1 = Child()       \n",
    "child2 = Child(50)     \n",
    "print()"
   ]
  },
  {
   "cell_type": "code",
   "execution_count": 4,
   "id": "b817d0b2",
   "metadata": {},
   "outputs": [
    {
     "name": "stdout",
     "output_type": "stream",
     "text": [
      "Public Constructor Called\n",
      "Protected Method Called\n",
      "\n"
     ]
    }
   ],
   "source": [
    "# 3. Apply private, public, protected, and default access modifiers to the constructor.\n",
    "\n",
    "class AccessModifiers:\n",
    "    def __init__(self):          # Public Constructor\n",
    "        print(\"Public Constructor Called\")\n",
    "\n",
    "    def _protected_method(self): # Protected Method\n",
    "        print(\"Protected Method Called\")\n",
    "\n",
    "    def __private_method(self):  # Private Method\n",
    "        print(\"Private Method Called\")\n",
    "# Creating object\n",
    "obj = AccessModifiers()\n",
    "obj._protected_method()   \n",
    "print()"
   ]
  },
  {
   "cell_type": "code",
   "execution_count": 5,
   "id": "cbb5be19",
   "metadata": {},
   "outputs": [
    {
     "name": "stdout",
     "output_type": "stream",
     "text": [
      "Name: Alice, Age: 30\n"
     ]
    }
   ],
   "source": [
    "# 4. Write a program which illustrates the concept of attributes of a constructor.\n",
    "\n",
    "class AttributesExample:\n",
    "    def __init__(self, name, age):\n",
    "        self.name = name  \n",
    "        self.age = age   \n",
    "    \n",
    "    def display(self):\n",
    "        print(f\"Name: {self.name}, Age: {self.age}\")\n",
    "\n",
    "person = AttributesExample(\"Alice\", 30)\n",
    "person.display()"
   ]
  },
  {
   "cell_type": "code",
   "execution_count": null,
   "id": "2fbd6235",
   "metadata": {},
   "outputs": [],
   "source": []
  }
 ],
 "metadata": {
  "kernelspec": {
   "display_name": "Python 3 (ipykernel)",
   "language": "python",
   "name": "python3"
  },
  "language_info": {
   "codemirror_mode": {
    "name": "ipython",
    "version": 3
   },
   "file_extension": ".py",
   "mimetype": "text/x-python",
   "name": "python",
   "nbconvert_exporter": "python",
   "pygments_lexer": "ipython3",
   "version": "3.11.7"
  }
 },
 "nbformat": 4,
 "nbformat_minor": 5
}
