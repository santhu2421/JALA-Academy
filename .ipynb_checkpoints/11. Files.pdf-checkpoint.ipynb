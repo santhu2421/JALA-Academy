{
 "cells": [
  {
   "cell_type": "code",
   "execution_count": 2,
   "id": "e1bf6934",
   "metadata": {},
   "outputs": [
    {
     "name": "stdout",
     "output_type": "stream",
     "text": [
      "Hi\n",
      "My name is santhosh\n",
      "\n"
     ]
    }
   ],
   "source": [
    "# 1. Write a program to read a text file \n",
    "\n",
    "file1 = open(\"Hi.txt\", \"r\")\n",
    "content = file1.read()\n",
    "print(content)\n",
    "print()\n"
   ]
  },
  {
   "cell_type": "code",
   "execution_count": 3,
   "id": "0d0ad593",
   "metadata": {},
   "outputs": [
    {
     "name": "stdout",
     "output_type": "stream",
     "text": [
      "Enter text to write in file: sravanthi mam\n",
      "Text written successfully!\n",
      "\n"
     ]
    }
   ],
   "source": [
    "# 2. Write a program to write text to .txt file using InputStream \n",
    "\n",
    "file2 = open(\"Hi.txt\", \"w\")\n",
    "text = input(\"Enter text to write in file: \")\n",
    "file2.write(text)\n",
    "file2.close()\n",
    "print(\"Text written successfully!\")\n",
    "print()"
   ]
  },
  {
   "cell_type": "code",
   "execution_count": 4,
   "id": "e14fedd7",
   "metadata": {},
   "outputs": [
    {
     "name": "stdout",
     "output_type": "stream",
     "text": [
      "sravanthi mam\n",
      "\n"
     ]
    }
   ],
   "source": [
    "# 3. Write a program to read a file stream \n",
    "\n",
    "file3 = open(\"Hi.txt\", \"r\")\n",
    "print(file3.readline())\n",
    "file3.close()\n",
    "print()"
   ]
  },
  {
   "cell_type": "code",
   "execution_count": 5,
   "id": "46c18129",
   "metadata": {},
   "outputs": [
    {
     "name": "stdout",
     "output_type": "stream",
     "text": [
      "Current File Position: 0\n",
      "File Position after seeking: 10\n",
      "\n"
     ]
    }
   ],
   "source": [
    "# 4. Write a program to read a file stream supports random access \n",
    "\n",
    "file4 = open(\"Hi.txt\", \"r+\")\n",
    "print(\"Current File Position:\", file4.tell())\n",
    "file4.seek(10)\n",
    "print(\"File Position after seeking:\", file4.tell())\n",
    "print()\n"
   ]
  },
  {
   "cell_type": "code",
   "execution_count": 9,
   "id": "a7b0f1ee",
   "metadata": {},
   "outputs": [
    {
     "name": "stdout",
     "output_type": "stream",
     "text": [
      "nthi mam\n",
      "\n"
     ]
    }
   ],
   "source": [
    "# 5. Write a program to read a file just to a particular index using seek() \n",
    "\n",
    "file5 = open(\"Hi.txt\", \"r\")\n",
    "file5.seek(5)\n",
    "print(file5.read(10))  # Reads 10 characters from index 5\n",
    "file5.close()\n",
    "print()"
   ]
  },
  {
   "cell_type": "code",
   "execution_count": 10,
   "id": "8e6420af",
   "metadata": {},
   "outputs": [
    {
     "name": "stdout",
     "output_type": "stream",
     "text": [
      "Hi.txt has read access\n",
      "Hi.txt has write access\n"
     ]
    }
   ],
   "source": [
    "# 6. Write a program to check whether a file is having read access and write access permissions \n",
    "\n",
    "import os\n",
    "\n",
    "filename = \"Hi.txt\"\n",
    "\n",
    "if os.access(filename, os.R_OK):\n",
    "    print(f\"{filename} has read access\")\n",
    "else:\n",
    "    print(f\"{filename} does not have read access\")\n",
    "\n",
    "if os.access(filename, os.W_OK):\n",
    "    print(f\"{filename} has write access\")\n",
    "else:\n",
    "    print(f\"{filename} does not have write access\")"
   ]
  },
  {
   "cell_type": "code",
   "execution_count": null,
   "id": "d7c1695c",
   "metadata": {},
   "outputs": [],
   "source": []
  }
 ],
 "metadata": {
  "kernelspec": {
   "display_name": "Python 3 (ipykernel)",
   "language": "python",
   "name": "python3"
  },
  "language_info": {
   "codemirror_mode": {
    "name": "ipython",
    "version": 3
   },
   "file_extension": ".py",
   "mimetype": "text/x-python",
   "name": "python",
   "nbconvert_exporter": "python",
   "pygments_lexer": "ipython3",
   "version": "3.11.7"
  }
 },
 "nbformat": 4,
 "nbformat_minor": 5
}
